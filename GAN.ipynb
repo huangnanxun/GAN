{
 "cells": [
  {
   "cell_type": "code",
   "execution_count": 1,
   "metadata": {},
   "outputs": [],
   "source": [
    "import torch\n",
    "import numpy as np\n",
    "import pandas as pd\n",
    "import matplotlib.pyplot as plt\n",
    "import torchvision\n",
    "import torchvision.transforms as transforms\n",
    "import torch.nn as nn\n",
    "import os\n",
    "from torchvision.utils import save_image"
   ]
  },
  {
   "cell_type": "code",
   "execution_count": 30,
   "metadata": {},
   "outputs": [],
   "source": [
    "#transform = transforms.Compose([transforms.ToTensor(), transforms.Normalize((0.1307,), (0.3081,))])"
   ]
  },
  {
   "cell_type": "code",
   "execution_count": 2,
   "metadata": {},
   "outputs": [],
   "source": [
    "trainset = torchvision.datasets.MNIST(root='./data', train=True,transform=transforms.ToTensor())\n",
    "testset = torchvision.datasets.MNIST(root='./data', train=False,transform=transforms.ToTensor())"
   ]
  },
  {
   "cell_type": "code",
   "execution_count": 3,
   "metadata": {},
   "outputs": [],
   "source": [
    "train_data = torch.utils.data.DataLoader(dataset=trainset, \n",
    "                                           batch_size=100, \n",
    "                                           shuffle=True)\n",
    " \n",
    "test_data = torch.utils.data.DataLoader(dataset=testset, \n",
    "                                          batch_size=100, \n",
    "                                          shuffle=False)"
   ]
  },
  {
   "cell_type": "code",
   "execution_count": 4,
   "metadata": {},
   "outputs": [],
   "source": [
    "class Discriminator(nn.Module):\n",
    "    def __init__(self):\n",
    "        super(Discriminator, self).__init__()\n",
    "        self.fc1 = nn.Linear(784, 512) \n",
    "        self.relu1 = nn.LeakyReLU(0.2, inplace=True)\n",
    "        self.fc2 = nn.Linear(512, 256)\n",
    "        self.relu2 = nn.LeakyReLU(0.2, inplace=True)\n",
    "        self.fc3 = nn.Linear(256, 1)\n",
    "        self.sigmoid = nn.Sigmoid()\n",
    "    \n",
    "    def forward(self, x):\n",
    "        out = self.fc1(x)\n",
    "        out = self.relu1(out)\n",
    "        out = self.fc2(out)\n",
    "        out = self.relu2(out)\n",
    "        out = self.fc3(out)\n",
    "        out = self.sigmoid(out)\n",
    "        return out"
   ]
  },
  {
   "cell_type": "code",
   "execution_count": 5,
   "metadata": {},
   "outputs": [],
   "source": [
    "class Generator(nn.Module):\n",
    "    def __init__(self):\n",
    "        super(Generator, self).__init__()\n",
    "        self.fc1 = nn.Linear(128, 256) \n",
    "        self.relu1 = nn.LeakyReLU(0.2, inplace=True)\n",
    "        self.fc2 = nn.Linear(256, 512)\n",
    "        self.relu2 = nn.LeakyReLU(0.2, inplace=True)\n",
    "        self.fc3 = nn.Linear(512, 784)\n",
    "        self.tanh = nn.Tanh()\n",
    "    \n",
    "    def forward(self, x):\n",
    "        out = self.fc1(x)\n",
    "        out = self.relu1(out)\n",
    "        out = self.fc2(out)\n",
    "        out = self.relu2(out)\n",
    "        out = self.fc3(out)\n",
    "        out = self.tanh(out)\n",
    "        return out"
   ]
  },
  {
   "cell_type": "code",
   "execution_count": 6,
   "metadata": {},
   "outputs": [],
   "source": [
    "D = Discriminator()\n",
    "G = Generator()"
   ]
  },
  {
   "cell_type": "code",
   "execution_count": 7,
   "metadata": {},
   "outputs": [],
   "source": [
    "criterion = nn.BCELoss()\n",
    "D_opt = torch.optim.Adam(D.parameters(), lr=0.0002)\n",
    "G_opt = torch.optim.Adam(G.parameters(), lr=0.0002)"
   ]
  },
  {
   "cell_type": "code",
   "execution_count": null,
   "metadata": {},
   "outputs": [],
   "source": [
    "Total_loss_list = []\n",
    "G_loss_list = []\n",
    "for step,(x, _) in enumerate(train_data):\n",
    "    # in each step, Train D\n",
    "    x = x.reshape(100,784)\n",
    "    R_labels = torch.ones(100, 1)\n",
    "    F_labels = torch.zeros(100, 1)\n",
    "    Real_output = D(x)\n",
    "    Real_loss = criterion(Real_output, R_labels)\n",
    "    z = torch.randn(100, 128)\n",
    "    G_output = G(z)\n",
    "    Fake_output = D(G_output)\n",
    "    Fake_loss = criterion(Fake_output, F_labels)\n",
    "    Total_loss = Real_loss + Fake_loss\n",
    "    D_opt.zero_grad()\n",
    "    G_opt.zero_grad()\n",
    "    Total_loss.backward()\n",
    "    D_opt.step()\n",
    "    #Then Train G\n",
    "    z = torch.randn(100, 128)\n",
    "    G_output = G(z)\n",
    "    Fake_output = D(G_output)\n",
    "    G_loss = criterion(Fake_output, R_labels)\n",
    "    D_opt.zero_grad()\n",
    "    G_opt.zero_grad()\n",
    "    G_loss.backward()\n",
    "    G_opt.step()\n",
    "    #print('step[{}/{}],Total_loss:{:.4f},G_loss:{:.4f},Real_mean:{:.2f},Fake_mean:{:.2f}'.format(step+1, 600, Total_loss.item(), G_loss.item(), Real_output.mean(), Fake_output.mean()))\n",
    "    Total_loss_list.append(Total_loss)\n",
    "    G_loss_list.append(G_loss)"
   ]
  },
  {
   "cell_type": "code",
   "execution_count": null,
   "metadata": {},
   "outputs": [],
   "source": [
    "One_round = pd.DataFrame({'index': list(range(600)), 'Discriminator_loss': Total_loss_list, 'Generator_loss':G_loss_list})\n",
    "plt.plot('index', 'Discriminator_loss', data=One_round)\n",
    "plt.show()\n",
    "plt.plot('index', 'Generator_loss', data=One_round)\n",
    "plt.show()"
   ]
  },
  {
   "cell_type": "code",
   "execution_count": 8,
   "metadata": {},
   "outputs": [],
   "source": [
    "num_epochs = 50"
   ]
  },
  {
   "cell_type": "code",
   "execution_count": 9,
   "metadata": {},
   "outputs": [],
   "source": [
    "def denorm(x):\n",
    "    out = (x+1)/2\n",
    "    return out.clamp(0, 1)"
   ]
  },
  {
   "cell_type": "code",
   "execution_count": 10,
   "metadata": {},
   "outputs": [
    {
     "name": "stdout",
     "output_type": "stream",
     "text": [
      "Epoch[1/50]\n",
      "Epoch[2/50]\n",
      "Epoch[3/50]\n",
      "Epoch[4/50]\n",
      "Epoch[5/50]\n",
      "Epoch[6/50]\n",
      "Epoch[7/50]\n",
      "Epoch[8/50]\n",
      "Epoch[9/50]\n",
      "Epoch[10/50]\n",
      "Epoch[11/50]\n",
      "Epoch[12/50]\n",
      "Epoch[13/50]\n",
      "Epoch[14/50]\n",
      "Epoch[15/50]\n",
      "Epoch[16/50]\n",
      "Epoch[17/50]\n",
      "Epoch[18/50]\n",
      "Epoch[19/50]\n",
      "Epoch[20/50]\n",
      "Epoch[21/50]\n",
      "Epoch[22/50]\n",
      "Epoch[23/50]\n",
      "Epoch[24/50]\n",
      "Epoch[25/50]\n",
      "Epoch[26/50]\n",
      "Epoch[27/50]\n",
      "Epoch[28/50]\n",
      "Epoch[29/50]\n",
      "Epoch[30/50]\n",
      "Epoch[31/50]\n",
      "Epoch[32/50]\n",
      "Epoch[33/50]\n",
      "Epoch[34/50]\n",
      "Epoch[35/50]\n",
      "Epoch[36/50]\n",
      "Epoch[37/50]\n",
      "Epoch[38/50]\n",
      "Epoch[39/50]\n",
      "Epoch[40/50]\n",
      "Epoch[41/50]\n",
      "Epoch[42/50]\n",
      "Epoch[43/50]\n",
      "Epoch[44/50]\n",
      "Epoch[45/50]\n",
      "Epoch[46/50]\n",
      "Epoch[47/50]\n",
      "Epoch[48/50]\n",
      "Epoch[49/50]\n",
      "Epoch[50/50]\n"
     ]
    }
   ],
   "source": [
    "D_real_list = []\n",
    "D_fake_list = []\n",
    "G_loss_list = []\n",
    "for epoch in range(num_epochs):\n",
    "    D_real_in_epoch = 0\n",
    "    D_fake_in_epoch = 0  \n",
    "    G_loss_in_epoch = 0\n",
    "    for step,(x, _) in enumerate(train_data):\n",
    "        x = x.reshape(100,784)\n",
    "        R_labels = torch.ones(100, 1)\n",
    "        F_labels = torch.zeros(100, 1)\n",
    "        Real_output = D(x)\n",
    "        Real_loss = criterion(Real_output, R_labels)\n",
    "        z = torch.randn(100, 128)\n",
    "        G_output = G(z)\n",
    "        Fake_output = D(G_output)\n",
    "        Fake_loss = criterion(Fake_output, F_labels)\n",
    "        Total_loss = Real_loss + Fake_loss\n",
    "        D_opt.zero_grad()\n",
    "        G_opt.zero_grad()\n",
    "        Total_loss.backward()\n",
    "        D_opt.step()\n",
    "        z = torch.randn(100, 128)\n",
    "        G_output = G(z)\n",
    "        Fake_output = D(G_output)\n",
    "        G_loss = criterion(Fake_output, R_labels)\n",
    "        D_opt.zero_grad()\n",
    "        G_opt.zero_grad()\n",
    "        G_loss.backward()\n",
    "        G_opt.step()\n",
    "        D_real_in_epoch = D_real_in_epoch + Real_loss\n",
    "        D_fake_in_epoch = D_fake_in_epoch + Fake_loss\n",
    "        G_loss_in_epoch = G_loss_in_epoch + G_loss\n",
    "    if (epoch % 10) == 0:\n",
    "        x_sample = x[:16,:]\n",
    "        Fake_sample = G_output[:16].reshape(G_output[:16].size(0), 1, 28, 28)\n",
    "        save_image(denorm(Fake_sample), os.path.join('GAN_img', 'fake_images_eopch{}.png'.format(epoch)),nrow=4)\n",
    "    print('Epoch[{}/{}]'.format(epoch+1,num_epochs))\n",
    "    D_real_list.append(D_real_in_epoch/600)\n",
    "    D_fake_list.append(D_fake_in_epoch/600)\n",
    "    G_loss_list.append(G_loss_in_epoch/600)"
   ]
  },
  {
   "cell_type": "code",
   "execution_count": 11,
   "metadata": {},
   "outputs": [],
   "source": [
    "x_sample = x[:16,:]\n",
    "Fake_sample = G_output[:16].reshape(G_output[:16].size(0), 1, 28, 28)\n",
    "save_image(denorm(Fake_sample), os.path.join('GAN_img', 'fake_images_eopch{}.png'.format(50)),nrow=4)"
   ]
  },
  {
   "cell_type": "code",
   "execution_count": 16,
   "metadata": {},
   "outputs": [],
   "source": [
    "torch.save(G.state_dict(), 'hw5_gan_gen.pth')\n",
    "torch.save(D.state_dict(), 'hw5_gan_dis.pth')"
   ]
  },
  {
   "cell_type": "code",
   "execution_count": 12,
   "metadata": {},
   "outputs": [],
   "source": [
    "D_real_list = [i.item() for i in D_real_list]  "
   ]
  },
  {
   "cell_type": "code",
   "execution_count": 13,
   "metadata": {},
   "outputs": [],
   "source": [
    "D_fake_list = [i.item() for i in D_fake_list]  \n",
    "G_loss_list = [i.item() for i in G_loss_list]  "
   ]
  },
  {
   "cell_type": "code",
   "execution_count": 14,
   "metadata": {},
   "outputs": [
    {
     "data": {
      "image/png": "[encoded data removed]",
      "text/plain": [
       "<Figure size 432x288 with 1 Axes>"
      ]
     },
     "metadata": {
      "needs_background": "light"
     },
     "output_type": "display_data"
    }
   ],
   "source": [
    "loss_plt = pd.DataFrame({'index': list(range(num_epochs)), 'D_Real_loss': D_real_list, 'D_Fake_loss':D_fake_list, 'G_loss':G_loss_list})\n",
    "plt.plot('index', 'D_Real_loss', data=loss_plt)\n",
    "plt.plot('index', 'D_Fake_loss', data=loss_plt)\n",
    "plt.legend()\n",
    "plt.show()"
   ]
  },
  {
   "cell_type": "code",
   "execution_count": 15,
   "metadata": {},
   "outputs": [
    {
     "data": {
      "image/png": "[encoded data removed]",
      "text/plain": [
       "<Figure size 432x288 with 1 Axes>"
      ]
     },
     "metadata": {
      "needs_background": "light"
     },
     "output_type": "display_data"
    }
   ],
   "source": [
    "plt.plot('index', 'G_loss', data=loss_plt)\n",
    "plt.legend()\n",
    "plt.show()"
   ]
  },
  {
   "cell_type": "code",
   "execution_count": null,
   "metadata": {},
   "outputs": [],
   "source": []
  }
 ],
 "metadata": {
  "kernelspec": {
   "display_name": "Python 3",
   "language": "python",
   "name": "python3"
  },
  "language_info": {
   "codemirror_mode": {
    "name": "ipython",
    "version": 3
   },
   "file_extension": ".py",
   "mimetype": "text/x-python",
   "name": "python",
   "nbconvert_exporter": "python",
   "pygments_lexer": "ipython3",
   "version": "3.7.3"
  }
 },
 "nbformat": 4,
 "nbformat_minor": 2
}
